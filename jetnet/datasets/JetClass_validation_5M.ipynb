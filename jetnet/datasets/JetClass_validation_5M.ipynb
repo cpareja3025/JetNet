{
 "cells": [
  {
   "cell_type": "code",
   "execution_count": 39,
   "metadata": {},
   "outputs": [],
   "source": [
    "import numpy as np\n",
    "import pandas as pd\n",
    "import matplotlib as plt\n",
    "import uproot\n",
    "import awkward as ak"
   ]
  },
  {
   "cell_type": "code",
   "execution_count": 40,
   "metadata": {},
   "outputs": [],
   "source": [
    "path  = \"/Users/cpare/Downloads/val_5M/HToBB_120.root\"\n",
    "HtoBB = uproot.open(path)\n",
    "HtoCC = uproot.open(\"/Users/cpare/Downloads/val_5M/HToCC_122.root\")\n",
    "# ZJets = uproot.open(\"/Users/cpare/Downloads/val_5M/ZJetsToNuNu_120.root\")"
   ]
  },
  {
   "cell_type": "code",
   "execution_count": 41,
   "metadata": {},
   "outputs": [
    {
     "data": {
      "text/plain": [
       "['part_px',\n",
       " 'part_py',\n",
       " 'part_pz',\n",
       " 'part_energy',\n",
       " 'part_deta',\n",
       " 'part_dphi',\n",
       " 'part_d0val',\n",
       " 'part_d0err',\n",
       " 'part_dzval',\n",
       " 'part_dzerr',\n",
       " 'part_charge',\n",
       " 'part_isChargedHadron',\n",
       " 'part_isNeutralHadron',\n",
       " 'part_isPhoton',\n",
       " 'part_isElectron',\n",
       " 'part_isMuon',\n",
       " 'label_QCD',\n",
       " 'label_Hbb',\n",
       " 'label_Hcc',\n",
       " 'label_Hgg',\n",
       " 'label_H4q',\n",
       " 'label_Hqql',\n",
       " 'label_Zqq',\n",
       " 'label_Wqq',\n",
       " 'label_Tbqq',\n",
       " 'label_Tbl',\n",
       " 'jet_pt',\n",
       " 'jet_eta',\n",
       " 'jet_phi',\n",
       " 'jet_energy',\n",
       " 'jet_nparticles',\n",
       " 'jet_sdmass',\n",
       " 'jet_tau1',\n",
       " 'jet_tau2',\n",
       " 'jet_tau3',\n",
       " 'jet_tau4',\n",
       " 'aux_genpart_eta',\n",
       " 'aux_genpart_phi',\n",
       " 'aux_genpart_pid',\n",
       " 'aux_genpart_pt',\n",
       " 'aux_truth_match']"
      ]
     },
     "execution_count": 41,
     "metadata": {},
     "output_type": "execute_result"
    }
   ],
   "source": [
    "# HtoBB.keys()\n",
    "BB = HtoBB['tree']\n",
    "BB.keys()"
   ]
  },
  {
   "cell_type": "code",
   "execution_count": 164,
   "metadata": {},
   "outputs": [
    {
     "ename": "ValueError",
     "evalue": "in ListOffsetArray64, cannot convert to RegularArray because subarray lengths are not regular\n\n(https://github.com/scikit-hep/awkward-1.0/blob/1.8.0/src/cpu-kernels/awkward_ListOffsetArray_toRegularArray.cpp#L22)",
     "output_type": "error",
     "traceback": [
      "\u001b[0;31m---------------------------------------------------------------------------\u001b[0m",
      "\u001b[0;31mValueError\u001b[0m                                Traceback (most recent call last)",
      "\u001b[1;32m/Users/cpare/repos/JetNet/JetNet2/jetnet/datasets/JetClass_validation_5M.ipynb Cell 4\u001b[0m in \u001b[0;36m<module>\u001b[0;34m\u001b[0m\n\u001b[1;32m      <a href='vscode-notebook-cell:/Users/cpare/repos/JetNet/JetNet2/jetnet/datasets/JetClass_validation_5M.ipynb#W3sZmlsZQ%3D%3D?line=1'>2</a>\u001b[0m CC\u001b[39m.\u001b[39mkeys()\n\u001b[1;32m      <a href='vscode-notebook-cell:/Users/cpare/repos/JetNet/JetNet2/jetnet/datasets/JetClass_validation_5M.ipynb#W3sZmlsZQ%3D%3D?line=2'>3</a>\u001b[0m arr \u001b[39m=\u001b[39m CC[\u001b[39m'\u001b[39m\u001b[39mpart_px\u001b[39m\u001b[39m'\u001b[39m]\u001b[39m.\u001b[39marray()\n\u001b[0;32m----> <a href='vscode-notebook-cell:/Users/cpare/repos/JetNet/JetNet2/jetnet/datasets/JetClass_validation_5M.ipynb#W3sZmlsZQ%3D%3D?line=3'>4</a>\u001b[0m arr \u001b[39m=\u001b[39m ak\u001b[39m.\u001b[39;49mto_numpy(arr)\n\u001b[1;32m      <a href='vscode-notebook-cell:/Users/cpare/repos/JetNet/JetNet2/jetnet/datasets/JetClass_validation_5M.ipynb#W3sZmlsZQ%3D%3D?line=4'>5</a>\u001b[0m arr\n",
      "File \u001b[0;32m~/opt/anaconda3/envs/myenv/lib/python3.9/site-packages/awkward/operations/convert.py:196\u001b[0m, in \u001b[0;36mto_numpy\u001b[0;34m(array, allow_missing)\u001b[0m\n\u001b[1;32m    193\u001b[0m     \u001b[39mreturn\u001b[39;00m array\n\u001b[1;32m    195\u001b[0m \u001b[39melif\u001b[39;00m \u001b[39misinstance\u001b[39m(array, ak\u001b[39m.\u001b[39mhighlevel\u001b[39m.\u001b[39mArray):\n\u001b[0;32m--> 196\u001b[0m     \u001b[39mreturn\u001b[39;00m to_numpy(array\u001b[39m.\u001b[39;49mlayout, allow_missing\u001b[39m=\u001b[39;49mallow_missing)\n\u001b[1;32m    198\u001b[0m \u001b[39melif\u001b[39;00m \u001b[39misinstance\u001b[39m(array, ak\u001b[39m.\u001b[39mhighlevel\u001b[39m.\u001b[39mRecord):\n\u001b[1;32m    199\u001b[0m     out \u001b[39m=\u001b[39m array\u001b[39m.\u001b[39mlayout\n",
      "File \u001b[0;32m~/opt/anaconda3/envs/myenv/lib/python3.9/site-packages/awkward/operations/convert.py:324\u001b[0m, in \u001b[0;36mto_numpy\u001b[0;34m(array, allow_missing)\u001b[0m\n\u001b[1;32m    321\u001b[0m     \u001b[39mreturn\u001b[39;00m out[: shape[\u001b[39m0\u001b[39m] \u001b[39m*\u001b[39m array\u001b[39m.\u001b[39msize]\u001b[39m.\u001b[39mreshape(shape)\n\u001b[1;32m    323\u001b[0m \u001b[39melif\u001b[39;00m \u001b[39misinstance\u001b[39m(array, ak\u001b[39m.\u001b[39m_util\u001b[39m.\u001b[39mlisttypes):\n\u001b[0;32m--> 324\u001b[0m     \u001b[39mreturn\u001b[39;00m to_numpy(array\u001b[39m.\u001b[39;49mtoRegularArray(), allow_missing\u001b[39m=\u001b[39mallow_missing)\n\u001b[1;32m    326\u001b[0m \u001b[39melif\u001b[39;00m \u001b[39misinstance\u001b[39m(array, ak\u001b[39m.\u001b[39m_util\u001b[39m.\u001b[39mrecordtypes):\n\u001b[1;32m    327\u001b[0m     \u001b[39mif\u001b[39;00m array\u001b[39m.\u001b[39mnumfields \u001b[39m==\u001b[39m \u001b[39m0\u001b[39m:\n",
      "\u001b[0;31mValueError\u001b[0m: in ListOffsetArray64, cannot convert to RegularArray because subarray lengths are not regular\n\n(https://github.com/scikit-hep/awkward-1.0/blob/1.8.0/src/cpu-kernels/awkward_ListOffsetArray_toRegularArray.cpp#L22)"
     ]
    }
   ],
   "source": [
    "CC = HtoCC['tree']\n",
    "CC.keys()\n",
    "arr = CC['part_px'].array()\n",
    "arr = ak.to_numpy(arr)\n",
    "arr"
   ]
  },
  {
   "cell_type": "code",
   "execution_count": 152,
   "metadata": {},
   "outputs": [
    {
     "name": "stdout",
     "output_type": "stream",
     "text": [
      "[712.62054 523.09674 587.05774 ... 629.4652  663.3251  660.9326 ]\n",
      "[ 0.66018033 -0.11323062 -0.02584227 ... -0.5359105  -1.0891047\n",
      "  0.80419046]\n",
      "[ 1.0990121   0.06909209 -1.6507215  ... -0.92439324  0.36931244\n",
      " -0.59055436]\n",
      "[ 878.40295  544.3763   593.29297 ...  731.1771  1104.1888   895.9539 ]\n",
      "[47. 27. 24. ... 38. 42. 79.]\n",
      "[ 91.37938  137.73257    9.488261 ...  61.380795 124.18896   75.9391  ]\n",
      "[0.13239832 0.20080546 0.06185093 ... 0.10510892 0.14286892 0.18611443]\n",
      "[0.03577862 0.01662678 0.02938212 ... 0.05823926 0.06459513 0.12152812]\n",
      "[0.02623351 0.01551823 0.02206516 ... 0.03502854 0.049146   0.09883508]\n",
      "[0.02162579 0.01414961 0.02008151 ... 0.03000532 0.03791072 0.08564419]\n"
     ]
    }
   ],
   "source": [
    "HtoCC.keys()\n",
    "CC = HtoCC['tree']\n",
    "\n",
    "for i in CC.keys():\n",
    "    if \"jet\" in i:\n",
    "        arr = CC[i].array()\n",
    "        arr = ak.to_numpy(arr)\n",
    "        print(arr)\n",
    "# arr2 = pd.DataFrame(CC['jet_eta'].array())\n",
    "# arr2 = np.array(arr2)\n",
    "# arr2\n",
    "\n",
    "# new = list(arr2)\n",
    "# new = np.array(new)\n",
    "# new"
   ]
  },
  {
   "cell_type": "code",
   "execution_count": 120,
   "metadata": {},
   "outputs": [
    {
     "data": {
      "text/plain": [
       "array([<Array [234, 72.2, 53.9, ... 1.21, 1.24, 1.13] type='47 * float32'>,\n",
       "       <Array [97.8, 77, 60.7, ... 1.36, 1.22, 0.914] type='27 * float32'>,\n",
       "       <Array [122, 90, 70.7, ... 1.52, 1.33, 1.02] type='24 * float32'>,\n",
       "       ...,\n",
       "       <Array [184, 135, 82.4, ... 2, 1.63, 1.39] type='38 * float32'>,\n",
       "       <Array [166, 75.5, 68.1, ... 2.57, 3.66, 1.82] type='42 * float32'>,\n",
       "       <Array [128, 52.5, 49.8, ... 1.67, 1.38, 1.13] type='79 * float32'>],\n",
       "      dtype=object)"
      ]
     },
     "execution_count": 120,
     "metadata": {},
     "output_type": "execute_result"
    }
   ],
   "source": [
    "new"
   ]
  },
  {
   "cell_type": "code",
   "execution_count": 44,
   "metadata": {},
   "outputs": [
    {
     "ename": "NameError",
     "evalue": "name 'ZJets' is not defined",
     "output_type": "error",
     "traceback": [
      "\u001b[0;31m---------------------------------------------------------------------------\u001b[0m",
      "\u001b[0;31mNameError\u001b[0m                                 Traceback (most recent call last)",
      "\u001b[1;32m/Users/cpare/repos/JetNet/JetNet2/jetnet/datasets/JetClass_validation_5M.ipynb Cell 6\u001b[0m in \u001b[0;36m<module>\u001b[0;34m\u001b[0m\n\u001b[0;32m----> <a href='vscode-notebook-cell:/Users/cpare/repos/JetNet/JetNet2/jetnet/datasets/JetClass_validation_5M.ipynb#W5sZmlsZQ%3D%3D?line=0'>1</a>\u001b[0m ZJets\u001b[39m.\u001b[39mkeys()\n\u001b[1;32m      <a href='vscode-notebook-cell:/Users/cpare/repos/JetNet/JetNet2/jetnet/datasets/JetClass_validation_5M.ipynb#W5sZmlsZQ%3D%3D?line=1'>2</a>\u001b[0m Z \u001b[39m=\u001b[39m ZJets[\u001b[39m'\u001b[39m\u001b[39mtree\u001b[39m\u001b[39m'\u001b[39m]\n\u001b[1;32m      <a href='vscode-notebook-cell:/Users/cpare/repos/JetNet/JetNet2/jetnet/datasets/JetClass_validation_5M.ipynb#W5sZmlsZQ%3D%3D?line=2'>3</a>\u001b[0m Z\u001b[39m.\u001b[39mkeys()\n",
      "\u001b[0;31mNameError\u001b[0m: name 'ZJets' is not defined"
     ]
    }
   ],
   "source": [
    "ZJets.keys()\n",
    "Z = ZJets['tree']\n",
    "Z.keys()"
   ]
  },
  {
   "cell_type": "code",
   "execution_count": 46,
   "metadata": {},
   "outputs": [
    {
     "data": {
      "text/plain": [
       "100000"
      ]
     },
     "execution_count": 46,
     "metadata": {},
     "output_type": "execute_result"
    }
   ],
   "source": [
    "#BB.keys()\n",
    "arr = BB['part_deta'].array()\n",
    "# arr = np.array(arr)\n",
    "# type(arr)\n",
    "# arr1 = ak.to_numpy(arr)\n",
    "len(arr)\n",
    "# arr2 = Z['part_isElectron'].array()\n",
    "# arr3 = Z['part_isPhoton'].array()\n",
    "\n",
    "# type(arr2)\n",
    "\n",
    "\n",
    "# arr = np.array([arr2,arr3])\n",
    "# print(arr)"
   ]
  },
  {
   "cell_type": "code",
   "execution_count": null,
   "metadata": {},
   "outputs": [
    {
     "name": "stdout",
     "output_type": "stream",
     "text": [
      "[0. 5. 5.]\n",
      "[0. 1. 1.]\n"
     ]
    }
   ],
   "source": [
    "import numpy as np\n",
    "X = np.array([0,2,5,1,5,7,8])\n",
    "data = np.array([])\n",
    "Y = np.array([])\n",
    "Z = np.array([])\n",
    "\n",
    "def filter1(X,Y):\n",
    "    for i in X:\n",
    "        if(i== 0 or i==5):\n",
    "            Y = np.append(Y,i)\n",
    "    return Y\n",
    "\n",
    "\n",
    "def filter2(Y, Z):\n",
    "    for i in Y:\n",
    "        if(i==5):\n",
    "            i = 1\n",
    "            Z = np.append(Z,i)\n",
    "        if(i==0):\n",
    "            Z = np.append(Z,i)\n",
    "    return Z\n",
    "\n",
    "\n",
    "arr = filter1(X,Y)\n",
    "print(arr)\n",
    "\n",
    "arr2 = filter2(arr,Z)\n",
    "print(arr2)\n"
   ]
  },
  {
   "cell_type": "code",
   "execution_count": null,
   "metadata": {},
   "outputs": [],
   "source": [
    "def getData():\n",
    "    pass\n",
    "    "
   ]
  },
  {
   "cell_type": "code",
   "execution_count": null,
   "metadata": {},
   "outputs": [
    {
     "name": "stdout",
     "output_type": "stream",
     "text": [
      "jet_pt\n",
      "jet_eta\n",
      "jet_phi\n",
      "jet_energy\n",
      "jet_nparticles\n",
      "jet_sdmass\n",
      "jet_tau1\n",
      "jet_tau2\n",
      "jet_tau3\n",
      "jet_tau4\n",
      "jet_pt\n",
      "jet_eta\n",
      "jet_phi\n",
      "jet_energy\n",
      "jet_nparticles\n",
      "jet_sdmass\n",
      "jet_tau1\n",
      "jet_tau2\n",
      "jet_tau3\n",
      "jet_tau4\n",
      "jet_pt\n",
      "jet_eta\n",
      "jet_phi\n",
      "jet_energy\n",
      "jet_nparticles\n",
      "jet_sdmass\n",
      "jet_tau1\n",
      "jet_tau2\n",
      "jet_tau3\n",
      "jet_tau4\n",
      "jet_pt\n",
      "jet_eta\n",
      "jet_phi\n",
      "jet_energy\n",
      "jet_nparticles\n",
      "jet_sdmass\n",
      "jet_tau1\n",
      "jet_tau2\n",
      "jet_tau3\n",
      "jet_tau4\n",
      "jet_pt\n",
      "jet_eta\n",
      "jet_phi\n",
      "jet_energy\n",
      "jet_nparticles\n",
      "jet_sdmass\n",
      "jet_tau1\n",
      "jet_tau2\n",
      "jet_tau3\n",
      "jet_tau4\n",
      "jet_pt\n",
      "jet_eta\n",
      "jet_phi\n",
      "jet_energy\n",
      "jet_nparticles\n",
      "jet_sdmass\n",
      "jet_tau1\n",
      "jet_tau2\n",
      "jet_tau3\n",
      "jet_tau4\n",
      "jet_pt\n",
      "jet_eta\n",
      "jet_phi\n",
      "jet_energy\n",
      "jet_nparticles\n",
      "jet_sdmass\n",
      "jet_tau1\n",
      "jet_tau2\n",
      "jet_tau3\n",
      "jet_tau4\n",
      "jet_pt\n",
      "jet_eta\n",
      "jet_phi\n",
      "jet_energy\n",
      "jet_nparticles\n",
      "jet_sdmass\n",
      "jet_tau1\n",
      "jet_tau2\n",
      "jet_tau3\n",
      "jet_tau4\n",
      "jet_pt\n",
      "jet_eta\n",
      "jet_phi\n",
      "jet_energy\n",
      "jet_nparticles\n",
      "jet_sdmass\n",
      "jet_tau1\n",
      "jet_tau2\n",
      "jet_tau3\n",
      "jet_tau4\n",
      "jet_pt\n",
      "jet_eta\n",
      "jet_phi\n",
      "jet_energy\n",
      "jet_nparticles\n",
      "jet_sdmass\n",
      "jet_tau1\n",
      "jet_tau2\n",
      "jet_tau3\n",
      "jet_tau4\n",
      "jet_pt\n",
      "jet_eta\n",
      "jet_phi\n",
      "jet_energy\n",
      "jet_nparticles\n",
      "jet_sdmass\n",
      "jet_tau1\n",
      "jet_tau2\n",
      "jet_tau3\n",
      "jet_tau4\n",
      "jet_pt\n",
      "jet_eta\n",
      "jet_phi\n",
      "jet_energy\n",
      "jet_nparticles\n",
      "jet_sdmass\n",
      "jet_tau1\n",
      "jet_tau2\n",
      "jet_tau3\n",
      "jet_tau4\n",
      "jet_pt\n",
      "jet_eta\n",
      "jet_phi\n",
      "jet_energy\n",
      "jet_nparticles\n",
      "jet_sdmass\n",
      "jet_tau1\n",
      "jet_tau2\n",
      "jet_tau3\n",
      "jet_tau4\n",
      "jet_pt\n",
      "jet_eta\n",
      "jet_phi\n",
      "jet_energy\n",
      "jet_nparticles\n",
      "jet_sdmass\n",
      "jet_tau1\n",
      "jet_tau2\n",
      "jet_tau3\n",
      "jet_tau4\n",
      "jet_pt\n",
      "jet_eta\n",
      "jet_phi\n",
      "jet_energy\n",
      "jet_nparticles\n",
      "jet_sdmass\n",
      "jet_tau1\n",
      "jet_tau2\n",
      "jet_tau3\n",
      "jet_tau4\n",
      "jet_pt\n",
      "jet_eta\n",
      "jet_phi\n",
      "jet_energy\n",
      "jet_nparticles\n",
      "jet_sdmass\n",
      "jet_tau1\n",
      "jet_tau2\n",
      "jet_tau3\n",
      "jet_tau4\n",
      "jet_pt\n",
      "jet_eta\n",
      "jet_phi\n",
      "jet_energy\n",
      "jet_nparticles\n",
      "jet_sdmass\n",
      "jet_tau1\n",
      "jet_tau2\n",
      "jet_tau3\n",
      "jet_tau4\n",
      "jet_pt\n",
      "jet_eta\n",
      "jet_phi\n",
      "jet_energy\n",
      "jet_nparticles\n",
      "jet_sdmass\n",
      "jet_tau1\n",
      "jet_tau2\n",
      "jet_tau3\n",
      "jet_tau4\n",
      "jet_pt\n",
      "jet_eta\n",
      "jet_phi\n",
      "jet_energy\n",
      "jet_nparticles\n",
      "jet_sdmass\n",
      "jet_tau1\n",
      "jet_tau2\n",
      "jet_tau3\n",
      "jet_tau4\n",
      "jet_pt\n",
      "jet_eta\n",
      "jet_phi\n",
      "jet_energy\n",
      "jet_nparticles\n",
      "jet_sdmass\n",
      "jet_tau1\n",
      "jet_tau2\n",
      "jet_tau3\n",
      "jet_tau4\n",
      "jet_pt\n",
      "jet_eta\n",
      "jet_phi\n",
      "jet_energy\n",
      "jet_nparticles\n",
      "jet_sdmass\n",
      "jet_tau1\n",
      "jet_tau2\n",
      "jet_tau3\n",
      "jet_tau4\n",
      "jet_pt\n",
      "jet_eta\n",
      "jet_phi\n",
      "jet_energy\n",
      "jet_nparticles\n",
      "jet_sdmass\n",
      "jet_tau1\n",
      "jet_tau2\n",
      "jet_tau3\n",
      "jet_tau4\n",
      "jet_pt\n",
      "jet_eta\n",
      "jet_phi\n",
      "jet_energy\n",
      "jet_nparticles\n",
      "jet_sdmass\n",
      "jet_tau1\n",
      "jet_tau2\n",
      "jet_tau3\n",
      "jet_tau4\n",
      "jet_pt\n",
      "jet_eta\n",
      "jet_phi\n",
      "jet_energy\n",
      "jet_nparticles\n",
      "jet_sdmass\n",
      "jet_tau1\n",
      "jet_tau2\n",
      "jet_tau3\n",
      "jet_tau4\n",
      "jet_pt\n",
      "jet_eta\n",
      "jet_phi\n",
      "jet_energy\n",
      "jet_nparticles\n",
      "jet_sdmass\n",
      "jet_tau1\n",
      "jet_tau2\n",
      "jet_tau3\n",
      "jet_tau4\n",
      "jet_pt\n",
      "jet_eta\n",
      "jet_phi\n",
      "jet_energy\n",
      "jet_nparticles\n",
      "jet_sdmass\n",
      "jet_tau1\n",
      "jet_tau2\n",
      "jet_tau3\n",
      "jet_tau4\n",
      "jet_pt\n",
      "jet_eta\n",
      "jet_phi\n",
      "jet_energy\n",
      "jet_nparticles\n",
      "jet_sdmass\n",
      "jet_tau1\n",
      "jet_tau2\n",
      "jet_tau3\n",
      "jet_tau4\n",
      "jet_pt\n",
      "jet_eta\n",
      "jet_phi\n",
      "jet_energy\n",
      "jet_nparticles\n",
      "jet_sdmass\n",
      "jet_tau1\n",
      "jet_tau2\n",
      "jet_tau3\n",
      "jet_tau4\n",
      "jet_pt\n",
      "jet_eta\n",
      "jet_phi\n",
      "jet_energy\n",
      "jet_nparticles\n",
      "jet_sdmass\n",
      "jet_tau1\n",
      "jet_tau2\n",
      "jet_tau3\n",
      "jet_tau4\n",
      "jet_pt\n",
      "jet_eta\n",
      "jet_phi\n",
      "jet_energy\n",
      "jet_nparticles\n",
      "jet_sdmass\n",
      "jet_tau1\n",
      "jet_tau2\n",
      "jet_tau3\n",
      "jet_tau4\n",
      "jet_pt\n",
      "jet_eta\n",
      "jet_phi\n",
      "jet_energy\n",
      "jet_nparticles\n",
      "jet_sdmass\n",
      "jet_tau1\n",
      "jet_tau2\n",
      "jet_tau3\n",
      "jet_tau4\n",
      "jet_pt\n",
      "jet_eta\n",
      "jet_phi\n",
      "jet_energy\n",
      "jet_nparticles\n",
      "jet_sdmass\n",
      "jet_tau1\n",
      "jet_tau2\n",
      "jet_tau3\n",
      "jet_tau4\n",
      "jet_pt\n",
      "jet_eta\n",
      "jet_phi\n",
      "jet_energy\n",
      "jet_nparticles\n",
      "jet_sdmass\n",
      "jet_tau1\n",
      "jet_tau2\n",
      "jet_tau3\n",
      "jet_tau4\n",
      "jet_pt\n",
      "jet_eta\n",
      "jet_phi\n",
      "jet_energy\n",
      "jet_nparticles\n",
      "jet_sdmass\n",
      "jet_tau1\n",
      "jet_tau2\n",
      "jet_tau3\n",
      "jet_tau4\n",
      "jet_pt\n",
      "jet_eta\n",
      "jet_phi\n",
      "jet_energy\n",
      "jet_nparticles\n",
      "jet_sdmass\n",
      "jet_tau1\n",
      "jet_tau2\n",
      "jet_tau3\n",
      "jet_tau4\n",
      "jet_pt\n",
      "jet_eta\n",
      "jet_phi\n",
      "jet_energy\n",
      "jet_nparticles\n",
      "jet_sdmass\n",
      "jet_tau1\n",
      "jet_tau2\n",
      "jet_tau3\n",
      "jet_tau4\n",
      "jet_pt\n",
      "jet_eta\n",
      "jet_phi\n",
      "jet_energy\n",
      "jet_nparticles\n",
      "jet_sdmass\n",
      "jet_tau1\n",
      "jet_tau2\n",
      "jet_tau3\n",
      "jet_tau4\n",
      "jet_pt\n",
      "jet_eta\n",
      "jet_phi\n",
      "jet_energy\n",
      "jet_nparticles\n",
      "jet_sdmass\n",
      "jet_tau1\n",
      "jet_tau2\n",
      "jet_tau3\n",
      "jet_tau4\n",
      "jet_pt\n",
      "jet_eta\n",
      "jet_phi\n",
      "jet_energy\n",
      "jet_nparticles\n",
      "jet_sdmass\n",
      "jet_tau1\n",
      "jet_tau2\n",
      "jet_tau3\n",
      "jet_tau4\n",
      "jet_pt\n",
      "jet_eta\n",
      "jet_phi\n",
      "jet_energy\n",
      "jet_nparticles\n",
      "jet_sdmass\n",
      "jet_tau1\n",
      "jet_tau2\n",
      "jet_tau3\n",
      "jet_tau4\n",
      "jet_pt\n",
      "jet_eta\n",
      "jet_phi\n",
      "jet_energy\n",
      "jet_nparticles\n",
      "jet_sdmass\n",
      "jet_tau1\n",
      "jet_tau2\n",
      "jet_tau3\n",
      "jet_tau4\n",
      "jet_pt\n",
      "jet_eta\n",
      "jet_phi\n",
      "jet_energy\n",
      "jet_nparticles\n",
      "jet_sdmass\n",
      "jet_tau1\n",
      "jet_tau2\n",
      "jet_tau3\n",
      "jet_tau4\n",
      "jet_pt\n",
      "jet_eta\n",
      "jet_phi\n",
      "jet_energy\n",
      "jet_nparticles\n",
      "jet_sdmass\n",
      "jet_tau1\n",
      "jet_tau2\n",
      "jet_tau3\n",
      "jet_tau4\n",
      "jet_pt\n",
      "jet_eta\n",
      "jet_phi\n",
      "jet_energy\n",
      "jet_nparticles\n",
      "jet_sdmass\n",
      "jet_tau1\n",
      "jet_tau2\n",
      "jet_tau3\n",
      "jet_tau4\n",
      "jet_pt\n",
      "jet_eta\n",
      "jet_phi\n",
      "jet_energy\n",
      "jet_nparticles\n",
      "jet_sdmass\n",
      "jet_tau1\n",
      "jet_tau2\n",
      "jet_tau3\n",
      "jet_tau4\n",
      "jet_pt\n",
      "jet_eta\n",
      "jet_phi\n",
      "jet_energy\n",
      "jet_nparticles\n",
      "jet_sdmass\n",
      "jet_tau1\n",
      "jet_tau2\n",
      "jet_tau3\n",
      "jet_tau4\n",
      "jet_pt\n",
      "jet_eta\n",
      "jet_phi\n",
      "jet_energy\n",
      "jet_nparticles\n",
      "jet_sdmass\n",
      "jet_tau1\n",
      "jet_tau2\n",
      "jet_tau3\n",
      "jet_tau4\n",
      "jet_pt\n",
      "jet_eta\n",
      "jet_phi\n",
      "jet_energy\n",
      "jet_nparticles\n",
      "jet_sdmass\n",
      "jet_tau1\n",
      "jet_tau2\n",
      "jet_tau3\n",
      "jet_tau4\n",
      "jet_pt\n",
      "jet_eta\n",
      "jet_phi\n",
      "jet_energy\n",
      "jet_nparticles\n",
      "jet_sdmass\n",
      "jet_tau1\n",
      "jet_tau2\n",
      "jet_tau3\n",
      "jet_tau4\n",
      "jet_pt\n",
      "jet_eta\n",
      "jet_phi\n",
      "jet_energy\n",
      "jet_nparticles\n",
      "jet_sdmass\n",
      "jet_tau1\n",
      "jet_tau2\n",
      "jet_tau3\n",
      "jet_tau4\n"
     ]
    }
   ],
   "source": [
    "import numpy as np\n",
    "import uproot\n",
    "import os\n",
    "import pandas as pd\n",
    "import matplotlib as plt\n",
    "\n",
    "\n",
    "directory = \"/Users/cpare/Downloads/val_5M\"\n",
    "answer = input('For jet feautures enter \"jet\" and for particle features enter \"part\"')\n",
    "for filename in os.listdir(directory):\n",
    "    f = os.path.join(directory,filename)\n",
    "    file = uproot.open(f)\n",
    "    x = file['tree']\n",
    "    for i in x.keys():\n",
    "        if answer == \"part\":\n",
    "            if \"part\" in i:\n",
    "                print(i)\n",
    "        if answer == \"jet\":\n",
    "            if \"jet\" in i:\n",
    "                print(i)"
   ]
  },
  {
   "cell_type": "code",
   "execution_count": null,
   "metadata": {},
   "outputs": [
    {
     "data": {
      "text/plain": [
       "29"
      ]
     },
     "execution_count": 35,
     "metadata": {},
     "output_type": "execute_result"
    }
   ],
   "source": [
    "directory = \"/Users/cpare/Downloads/val_5M\"\n",
    "len(directory)"
   ]
  },
  {
   "cell_type": "code",
   "execution_count": null,
   "metadata": {},
   "outputs": [
    {
     "data": {
      "text/plain": [
       "'jet_pt'"
      ]
     },
     "execution_count": 33,
     "metadata": {},
     "output_type": "execute_result"
    }
   ],
   "source": [
    "d = getData(directory)\n",
    "d"
   ]
  },
  {
   "cell_type": "code",
   "execution_count": null,
   "metadata": {},
   "outputs": [
    {
     "name": "stdout",
     "output_type": "stream",
     "text": [
      "[[1 2 3 4]\n",
      " [5 5 7 8]]\n"
     ]
    }
   ],
   "source": [
    "list1 = [1,2,3,4]\n",
    "list2 = [5,5,7,8]\n",
    "\n",
    "arr = np.array([list1,list2])\n",
    "print(arr)"
   ]
  },
  {
   "cell_type": "code",
   "execution_count": null,
   "metadata": {},
   "outputs": [],
   "source": [
    "def sum(a, b):\n",
    "    return a + b"
   ]
  },
  {
   "cell_type": "code",
   "execution_count": null,
   "metadata": {},
   "outputs": [
    {
     "data": {
      "text/plain": [
       "3"
      ]
     },
     "execution_count": 3,
     "metadata": {},
     "output_type": "execute_result"
    }
   ],
   "source": [
    "values = { 'a': 1, 'b': 2 }\n",
    "s = sum(**values)\n",
    "s"
   ]
  },
  {
   "cell_type": "code",
   "execution_count": null,
   "metadata": {},
   "outputs": [],
   "source": [
    "from utils import *"
   ]
  },
  {
   "cell_type": "code",
   "execution_count": 102,
   "metadata": {},
   "outputs": [
    {
     "data": {
      "text/plain": [
       "'https://zenodo.org/api/files/e74892f2-1542-492b-b753-1e8f86c1d2ea/JetClass_Pythia_val_5M.tar'"
      ]
     },
     "execution_count": 102,
     "metadata": {},
     "output_type": "execute_result"
    }
   ],
   "source": [
    "file = \"JetClass_Pythia_val_5M.tar\"\n",
    "record_id = 6619768\n",
    "file_url = getZenodoFileURL(record_id, file)\n",
    "file_url"
   ]
  },
  {
   "cell_type": "code",
   "execution_count": 103,
   "metadata": {},
   "outputs": [
    {
     "data": {
      "text/plain": [
       "'/Users/cpare/Downloads/val_5M'"
      ]
     },
     "execution_count": 103,
     "metadata": {},
     "output_type": "execute_result"
    }
   ],
   "source": [
    "data_dir = \"/Users/cpare/Downloads\"\n",
    "dataset_name  = \"JetClass\"\n",
    "real_file_name = \"val_5M\"\n",
    "filePath = checkDownloadZenodoDataset(data_dir, dataset_name, record_id, real_file_name)\n",
    "filePath"
   ]
  },
  {
   "cell_type": "code",
   "execution_count": null,
   "metadata": {},
   "outputs": [],
   "source": [
    "import os\n",
    "import uproot"
   ]
  },
  {
   "cell_type": "code",
   "execution_count": 158,
   "metadata": {},
   "outputs": [],
   "source": [
    "split = \"valid\"\n",
    "# jet_type = [\"b\",\"c\", \"g\",\"w\"]\n",
    "jet_type = [\"b\", \"c\"]\n",
    "jet_features = [\"jet_pt\",\"jet_energy\", \"jet_eta\"]\n",
    "particle_features = [\"px\",\"py\",\"pz\"]\n",
    "real_file_name = \"val_5M\"\n",
    "\n",
    "\n",
    "data_dir = \"/Users/cpare/Downloads\"\n",
    "def getData(split, jet_features, particle_features, data_dir):\n",
    "    train_matrix = np.array([[]])\n",
    "    valid_matrix_features = np.zeros((1,100000))\n",
    "    valid_matrix_particle = np.array([[]])\n",
    "    test_matrix = np.array([[]])\n",
    "    record_id = 6619768\n",
    "    if (split == \"valid\"):\n",
    "        dataset_name = \"JetClass validation\"\n",
    "        file = \"JetClass_Pythia_val_5M.tar\"\n",
    "        filePath = checkDownloadZenodoDataset(data_dir, dataset_name, record_id, real_file_name)\n",
    "        print(filePath)\n",
    "        for filename in os.listdir(filePath):\n",
    "            f  = os.path.join(filePath, filename)\n",
    "            if \"b\" in jet_type:\n",
    "                if (\"BB\") in f:\n",
    "                    open_file = uproot.open(f)\n",
    "                    branch = open_file['tree']\n",
    "                    for i in branch.keys():\n",
    "                        for feature in jet_features:\n",
    "                            if feature in i:\n",
    "                                arr = branch[i].array()\n",
    "                                arr = ak.to_numpy(arr)\n",
    "                                valid_matrix_features = np.vstack([valid_matrix_features, arr])\n",
    "    \n",
    "    valid_matrix_features = valid_matrix_features.T\n",
    "    return valid_matrix_features\n",
    "\n",
    "\n",
    "\n",
    "\n",
    "            \n",
    "\n",
    "\n",
    "\n",
    "\n",
    "        \n",
    "        \n",
    "        \n",
    "        \n",
    "\n"
   ]
  },
  {
   "cell_type": "code",
   "execution_count": 169,
   "metadata": {},
   "outputs": [
    {
     "name": "stdout",
     "output_type": "stream",
     "text": [
      "/Users/cpare/Downloads/val_5M\n",
      "[[ 0.00000000e+00  5.69305908e+02  2.80798256e-01 ...  5.07731934e+02\n",
      "  -1.33122468e+00  1.03149036e+03]\n",
      " [ 0.00000000e+00  6.25874695e+02 -6.30695403e-01 ...  5.22395752e+02\n",
      "  -6.41480625e-01  6.46075562e+02]\n",
      " [ 0.00000000e+00  7.17363464e+02  2.26348951e-01 ...  5.13242004e+02\n",
      "  -1.08207035e+00  8.53897583e+02]\n",
      " ...\n",
      " [ 0.00000000e+00  5.46770325e+02 -3.82432193e-01 ...  6.27279358e+02\n",
      "  -5.49419224e-01  7.37603027e+02]\n",
      " [ 0.00000000e+00  7.35002930e+02 -8.13788354e-01 ...  6.15022766e+02\n",
      "   1.88130125e-01  6.39374023e+02]\n",
      " [ 0.00000000e+00  5.82261047e+02 -8.54874492e-01 ...  8.90147583e+02\n",
      "   1.31683871e-01  9.06058777e+02]]\n"
     ]
    }
   ],
   "source": [
    "testing  = getData(split, jet_features, particle_features, data_dir)\n",
    "print(testing)\n",
    "# df = pd.DataFrame(testing)\n",
    "# df.head()\n",
    "#df.shape"
   ]
  },
  {
   "cell_type": "code",
   "execution_count": 74,
   "metadata": {},
   "outputs": [
    {
     "data": {
      "text/plain": [
       "array([[1, 1],\n",
       "       [2, 2],\n",
       "       [3, 9]])"
      ]
     },
     "execution_count": 74,
     "metadata": {},
     "output_type": "execute_result"
    }
   ],
   "source": [
    "split = \"valid\"\n",
    "# jet_type = [\"b\",\"c\", \"g\",\"w\"]\n",
    "jet_type = [\"b\", \"c\"]\n",
    "jet_features = [\"jet_pt\",\"jet_energy\", \"jet_eta\"]\n",
    "particle_features = [\"px\",\"py\",\"pz\"]\n",
    "real_file_name = \"val_5M\"\n",
    "\n",
    "\n",
    "data_dir = \"/Users/cpare/Downloads\"\n",
    "def getData2(split, jet_features, particle_features, data_dir):\n",
    "    train_matrix = np.array([[]])\n",
    "    valid_matrix_features = np.zeros((1,100000))\n",
    "    valid_matrix_particle = np.array([[]])\n",
    "    test_matrix = np.array([[]])\n",
    "    record_id = 6619768\n",
    "    if (split == \"valid\"):\n",
    "        dataset_name = \"JetClass validation\"\n",
    "        file = \"JetClass_Pythia_val_5M.tar\"\n",
    "        filePath = checkDownloadZenodoDataset(data_dir, dataset_name, record_id, real_file_name)\n",
    "        print(filePath)\n",
    "        for filename in os.listdir(filePath):\n",
    "            f  = os.path.join(filePath, filename)\n",
    "            if \"b\" in jet_type:\n",
    "                if (\"BB\") in f:\n",
    "                    open_file = uproot.open(f)\n",
    "                    branch = open_file['tree']\n",
    "                    for i in branch.keys():\n",
    "                        for feature in jet_features:\n",
    "                            if feature in i:\n",
    "                                arr = branch[i].array()\n",
    "                                arr = ak.to_numpy(arr)\n",
    "                                valid_matrix_features = np.vstack([valid_matrix_features, arr])\n",
    "    \n",
    "    valid_matrix_features = valid_matrix_features.T\n",
    "    return valid_matrix_features"
   ]
  },
  {
   "cell_type": "code",
   "execution_count": 87,
   "metadata": {},
   "outputs": [
    {
     "data": {
      "text/plain": [
       "array([[ 0.,  0.,  0.],\n",
       "       [34.,  5.,  1.]])"
      ]
     },
     "execution_count": 87,
     "metadata": {},
     "output_type": "execute_result"
    }
   ],
   "source": [
    "a = np.zeros((1,3))\n",
    "new = [34,5,1]\n",
    "a = np.vstack([a,new])\n",
    "a\n"
   ]
  },
  {
   "cell_type": "code",
   "execution_count": 57,
   "metadata": {},
   "outputs": [
    {
     "data": {
      "text/plain": [
       "(2, 3)"
      ]
     },
     "execution_count": 57,
     "metadata": {},
     "output_type": "execute_result"
    }
   ],
   "source": [
    "jet_features = [\"pta\",\"energy\", \"eta\"]\n",
    "len(jet_features)\n",
    "\n",
    "\n",
    "np.array([12,1])\n",
    "jet_matrix = np.zeros((2,len(jet_features)))\n",
    "jet_matrix.shape"
   ]
  },
  {
   "cell_type": "code",
   "execution_count": null,
   "metadata": {},
   "outputs": [],
   "source": []
  }
 ],
 "metadata": {
  "kernelspec": {
   "display_name": "Python 3.9.7 ('myenv')",
   "language": "python",
   "name": "python3"
  },
  "language_info": {
   "codemirror_mode": {
    "name": "ipython",
    "version": 3
   },
   "file_extension": ".py",
   "mimetype": "text/x-python",
   "name": "python",
   "nbconvert_exporter": "python",
   "pygments_lexer": "ipython3",
   "version": "3.9.7"
  },
  "orig_nbformat": 4,
  "vscode": {
   "interpreter": {
    "hash": "778ce5d35af1dda3b7990d3b1b584fe8bd02fd4e1fafa51f18e59d98f620d5dc"
   }
  }
 },
 "nbformat": 4,
 "nbformat_minor": 2
}
