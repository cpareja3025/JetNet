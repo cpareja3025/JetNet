{
 "cells": [
  {
   "cell_type": "code",
   "execution_count": 100,
   "metadata": {},
   "outputs": [],
   "source": [
    "import numpy as np\n",
    "import pandas as pd\n",
    "import matplotlib as plt\n",
    "import uproot\n",
    "import awkward as ak\n",
    "import os\n",
    "from utils import *\n",
    "from tqdm import tqdm, trange"
   ]
  },
  {
   "cell_type": "code",
   "execution_count": 2,
   "metadata": {},
   "outputs": [
    {
     "name": "stdout",
     "output_type": "stream",
     "text": [
      "[<Array [-67.3, -48, -42, ... 0.0173, -0.52] type='53 * float32'>, <Array [-32.4, -40.6, ... -0.316, -0.328] type='68 * float32'>, <Array [-30.7, -8.82, ... -0.0422, 0.0874] type='26 * float32'>, <Array [40, 34.2, 16.2, ... 0.593, 0.598] type='48 * float32'>]\n",
      "[-67.3, -48, -42, -47.5, -9.11, -4.85, ... -0.748, -0.694, -0.107, 0.0173, -0.52]\n"
     ]
    }
   ],
   "source": [
    "path  = \"/Users/cpare/Downloads/val_5M/HToBB_120.root\"\n",
    "HtoBB = uproot.open(path)\n",
    "BB_branch = HtoBB['tree']\n",
    "BB_branch.keys()\n",
    "awkArray_ptx = BB_branch['part_px'].array()\n",
    "list_ptx  = list(awkArray_ptx)\n",
    "print(list_ptx[:4])\n",
    "print(list_ptx[0])"
   ]
  },
  {
   "cell_type": "code",
   "execution_count": 3,
   "metadata": {},
   "outputs": [],
   "source": [
    "def getting_Data(list_hep):\n",
    "    list_hep_max = findMaxLengthList(list_hep)\n",
    "    design_matrix = np.zeros((1, list_hep_max))\n",
    "    for sub_list in list_hep:\n",
    "        sub_list = np.array(sub_list)\n",
    "        pad_list = np.pad(sub_list, (0, list_hep_max - len(sub_list)), 'constant', constant_values = 0)\n",
    "        design_matrix = np.vstack([design_matrix, pad_list])\n",
    "    new_design_matrix = np.delete(design_matrix, 0 , axis = 0)\n",
    "    return new_design_matrix\n",
    "\n",
    "\n"
   ]
  },
  {
   "attachments": {},
   "cell_type": "markdown",
   "metadata": {},
   "source": [
    "# Notes on the Branch\n",
    "\n",
    "- **The particle features are the awkward arrays that we can't simply transform to numpy arrays**\n",
    "\n",
    "\n",
    "- We only have to do zero-padding on the particle features as the nested/sub-arrays are all of different lengths.\n",
    "\n"
   ]
  },
  {
   "cell_type": "code",
   "execution_count": 4,
   "metadata": {},
   "outputs": [
    {
     "name": "stdout",
     "output_type": "stream",
     "text": [
      "[236.60558  244.01183  113.344536 ... 125.35571   45.36766  131.21666 ]\n",
      "<class 'numpy.ndarray'>\n",
      "100000\n"
     ]
    }
   ],
   "source": [
    "jet_pt_arr = BB_branch['jet_sdmass'].array()\n",
    "jet_pt_arr = np.array(jet_pt_arr)\n",
    "\n",
    "print(jet_pt_arr)\n",
    "print(type(jet_pt_arr))\n",
    "print(len(jet_pt_arr))\n",
    "\n"
   ]
  },
  {
   "attachments": {},
   "cell_type": "markdown",
   "metadata": {},
   "source": [
    "## Testing method that works efficiently"
   ]
  },
  {
   "cell_type": "code",
   "execution_count": 165,
   "metadata": {},
   "outputs": [
    {
     "data": {
      "text/plain": [
       "41"
      ]
     },
     "execution_count": 165,
     "metadata": {},
     "output_type": "execute_result"
    }
   ],
   "source": [
    "path  = \"/Users/cpare/Downloads/val_5M/HToBB_122.root\"\n",
    "HtoBB = uproot.open(path)\n",
    "BB_branch = HtoBB['tree']\n",
    "len(BB_branch.keys())"
   ]
  },
  {
   "cell_type": "code",
   "execution_count": 166,
   "metadata": {},
   "outputs": [
    {
     "name": "stderr",
     "output_type": "stream",
     "text": [
      "Processing Data: :   0%|          | 0/50 [05:56<?, ?it/s]\n"
     ]
    }
   ],
   "source": [
    "arr_awk = BB_branch['part_px'].array()\n",
    "awk_list = list(arr_awk)"
   ]
  },
  {
   "cell_type": "code",
   "execution_count": 167,
   "metadata": {},
   "outputs": [
    {
     "data": {
      "text/plain": [
       "126"
      ]
     },
     "execution_count": 167,
     "metadata": {},
     "output_type": "execute_result"
    }
   ],
   "source": [
    "m = findMaxLengthList(awk_list)\n",
    "m"
   ]
  },
  {
   "cell_type": "code",
   "execution_count": 88,
   "metadata": {},
   "outputs": [
    {
     "data": {
      "text/plain": [
       "(100000, 136)"
      ]
     },
     "execution_count": 88,
     "metadata": {},
     "output_type": "execute_result"
    }
   ],
   "source": [
    "from utils import *\n",
    "zero_pad_arr = zero_padding(awk_list)\n",
    "zero_pad_arr.shape\n"
   ]
  },
  {
   "cell_type": "code",
   "execution_count": 97,
   "metadata": {},
   "outputs": [
    {
     "name": "stdout",
     "output_type": "stream",
     "text": [
      "(200000, 136)\n"
     ]
    }
   ],
   "source": [
    "path  = \"/Users/cpare/Downloads/val_5M/HToBB_120.root\"\n",
    "particle_features = [\"part_px\", \"part_py\"]\n",
    "open_file = uproot.open(path)\n",
    "branch = open_file['tree']\n",
    "particle_matrix = np.zeros((1, 136))\n",
    "for i in branch.keys():\n",
    "    for particle in particle_features:\n",
    "        if particle in i:\n",
    "            arr_awk = branch[i].array()\n",
    "            awk_list = list(arr_awk)\n",
    "            zero_pad_arr = zero_padding(awk_list)\n",
    "            particle_matrix = np.vstack([particle_matrix, zero_pad_arr])\n",
    "            updated_particle_matrix = np.delete(particle_matrix, 0 , axis = 0)\n",
    "\n",
    "\n",
    "print(updated_particle_matrix.shape)\n"
   ]
  },
  {
   "cell_type": "code",
   "execution_count": 127,
   "metadata": {},
   "outputs": [
    {
     "data": {
      "text/plain": [
       "0.0"
      ]
     },
     "execution_count": 127,
     "metadata": {},
     "output_type": "execute_result"
    }
   ],
   "source": [
    "updated_particle_matrix[2,135]"
   ]
  },
  {
   "attachments": {},
   "cell_type": "markdown",
   "metadata": {},
   "source": [
    "# Shape of Particle features Matrix is [100000,136]"
   ]
  },
  {
   "cell_type": "code",
   "execution_count": 81,
   "metadata": {},
   "outputs": [
    {
     "data": {
      "text/plain": [
       "(100000, 136)"
      ]
     },
     "execution_count": 81,
     "metadata": {},
     "output_type": "execute_result"
    }
   ],
   "source": [
    "zero_pad_arr.shape"
   ]
  },
  {
   "attachments": {},
   "cell_type": "markdown",
   "metadata": {},
   "source": [
    "## Testing validation (if file is already downloaded)"
   ]
  },
  {
   "cell_type": "code",
   "execution_count": 133,
   "metadata": {},
   "outputs": [],
   "source": [
    "jet_type = [\"HToBB\"]\n",
    "jet_features = [\"jet_pt\", \"jet_eta\", \"jet_phi\"]\n",
    "particle_features = [\"part_px\"]\n",
    "data_dir = \"/Users/cpare/Downloads\""
   ]
  },
  {
   "cell_type": "code",
   "execution_count": 65,
   "metadata": {},
   "outputs": [
    {
     "data": {
      "text/plain": [
       "'HToBB'"
      ]
     },
     "execution_count": 65,
     "metadata": {},
     "output_type": "execute_result"
    }
   ],
   "source": [
    "jet_type[0]"
   ]
  },
  {
   "cell_type": "code",
   "execution_count": 180,
   "metadata": {},
   "outputs": [],
   "source": [
    "def getData(jet_type, jet_features, particle_features, data_dir):\n",
    "    dataset_name = \"JetClass Validation Set\"\n",
    "    file_download_name = \"Val_5M\"\n",
    "    key = \"JetClass_Pythia_val_5M.tar\"\n",
    "    record_id = 6619768\n",
    "    jet_matrix = np.zeros((1, 100000))\n",
    "    particle_matrix = np.zeros((1, 136))\n",
    "    file_path = checkDownloadZenodoDataset(data_dir, dataset_name, record_id, key, file_download_name)\n",
    "    print(\"Processing Data: ...\")\n",
    "    for jet_file in os.listdir(file_path):\n",
    "        f = os.path.join(file_path, jet_file)\n",
    "        for jet in jet_type:\n",
    "            if jet in f:\n",
    "                open_file = uproot.open(f)\n",
    "                branch = open_file['tree']\n",
    "                for i in branch.keys():\n",
    "                    for feature in jet_features:\n",
    "                        if feature in i:\n",
    "                            arr = branch[i].array()\n",
    "                            arr = np.array(arr)\n",
    "                            jet_matrix = np.vstack([jet_matrix, arr])\n",
    "                    for particle in particle_features:\n",
    "                        if particle in i:\n",
    "                            arr_awk = branch[i].array()\n",
    "                            awk_list = list(arr_awk)\n",
    "                            zero_pad_arr = zero_padding(awk_list)\n",
    "                            length_curr = findMaxLengthList(zero_pad_arr)\n",
    "                            length_matrix = findMaxLengthList(particle_matrix)\n",
    "                            zeros = np.zeros(100001)\n",
    "                            if (length_curr > length_matrix) :\n",
    "                                zeros = np.zeros(100001)\n",
    "                                diff = length_curr - length_matrix\n",
    "                                for i in range(diff):\n",
    "                                    particle_matrix = np.column_stack((particle_matrix,zeros))\n",
    "                            elif (length_curr < length_matrix):\n",
    "                                zeros = np.zeros(100000)\n",
    "                                diff = length_matrix - length_curr\n",
    "                                for i in range(diff):\n",
    "                                    zero_pad_arr = np.column_stack((zero_pad_arr,zeros))\n",
    "                            particle_matrix = np.vstack([particle_matrix, zero_pad_arr])\n",
    "                            updated_particle_matrix = np.delete(particle_matrix, 0 , axis = 0)   \n",
    "                \n",
    "    updated_jet_matrix = np.delete(jet_matrix, 0 , axis = 0)                \n",
    "    dim1 = updated_jet_matrix.shape[0]\n",
    "    dim2 = updated_jet_matrix.shape[1]\n",
    "    dim_res = dim1/len(jet_features)\n",
    "    dim = int(dim_res * dim2)\n",
    "    return updated_jet_matrix.reshape(dim,len(jet_features)) , updated_particle_matrix\n",
    "\n",
    "                      \n",
    "\n",
    "\n"
   ]
  },
  {
   "cell_type": "code",
   "execution_count": 181,
   "metadata": {},
   "outputs": [
    {
     "name": "stdout",
     "output_type": "stream",
     "text": [
      "Processing Data: ...\n"
     ]
    },
    {
     "name": "stderr",
     "output_type": "stream",
     "text": [
      "Processing Data: :   0%|          | 0/50 [14:32<?, ?it/s]\n"
     ]
    },
    {
     "ename": "KeyboardInterrupt",
     "evalue": "",
     "output_type": "error",
     "traceback": [
      "\u001b[0;31m---------------------------------------------------------------------------\u001b[0m",
      "\u001b[0;31mKeyboardInterrupt\u001b[0m                         Traceback (most recent call last)",
      "\u001b[1;32m/Users/cpare/repos/JetNet/JetNet2/jetnet/datasets/JetClass.ipynb Cell 19\u001b[0m in \u001b[0;36m<module>\u001b[0;34m\u001b[0m\n\u001b[0;32m----> <a href='vscode-notebook-cell:/Users/cpare/repos/JetNet/JetNet2/jetnet/datasets/JetClass.ipynb#X22sZmlsZQ%3D%3D?line=0'>1</a>\u001b[0m jet_data, particle_data \u001b[39m=\u001b[39m getData(jet_type, jet_features, particle_features,data_dir)\n\u001b[1;32m      <a href='vscode-notebook-cell:/Users/cpare/repos/JetNet/JetNet2/jetnet/datasets/JetClass.ipynb#X22sZmlsZQ%3D%3D?line=1'>2</a>\u001b[0m \u001b[39m## Combibing the first axis, instead having 500k by 3\u001b[39;00m\n\u001b[1;32m      <a href='vscode-notebook-cell:/Users/cpare/repos/JetNet/JetNet2/jetnet/datasets/JetClass.ipynb#X22sZmlsZQ%3D%3D?line=2'>3</a>\u001b[0m jet_data\u001b[39m.\u001b[39mshape\n",
      "\u001b[1;32m/Users/cpare/repos/JetNet/JetNet2/jetnet/datasets/JetClass.ipynb Cell 19\u001b[0m in \u001b[0;36mgetData\u001b[0;34m(jet_type, jet_features, particle_features, data_dir)\u001b[0m\n\u001b[1;32m     <a href='vscode-notebook-cell:/Users/cpare/repos/JetNet/JetNet2/jetnet/datasets/JetClass.ipynb#X22sZmlsZQ%3D%3D?line=23'>24</a>\u001b[0m arr_awk \u001b[39m=\u001b[39m branch[i]\u001b[39m.\u001b[39marray()\n\u001b[1;32m     <a href='vscode-notebook-cell:/Users/cpare/repos/JetNet/JetNet2/jetnet/datasets/JetClass.ipynb#X22sZmlsZQ%3D%3D?line=24'>25</a>\u001b[0m awk_list \u001b[39m=\u001b[39m \u001b[39mlist\u001b[39m(arr_awk)\n\u001b[0;32m---> <a href='vscode-notebook-cell:/Users/cpare/repos/JetNet/JetNet2/jetnet/datasets/JetClass.ipynb#X22sZmlsZQ%3D%3D?line=25'>26</a>\u001b[0m zero_pad_arr \u001b[39m=\u001b[39m zero_padding(awk_list)\n\u001b[1;32m     <a href='vscode-notebook-cell:/Users/cpare/repos/JetNet/JetNet2/jetnet/datasets/JetClass.ipynb#X22sZmlsZQ%3D%3D?line=26'>27</a>\u001b[0m length_curr \u001b[39m=\u001b[39m findMaxLengthList(zero_pad_arr)\n\u001b[1;32m     <a href='vscode-notebook-cell:/Users/cpare/repos/JetNet/JetNet2/jetnet/datasets/JetClass.ipynb#X22sZmlsZQ%3D%3D?line=27'>28</a>\u001b[0m length_matrix \u001b[39m=\u001b[39m findMaxLengthList(particle_matrix)\n",
      "File \u001b[0;32m~/repos/JetNet/JetNet2/jetnet/datasets/utils.py:183\u001b[0m, in \u001b[0;36mzero_padding\u001b[0;34m(lst)\u001b[0m\n\u001b[1;32m    181\u001b[0m returned_list \u001b[39m=\u001b[39m []\n\u001b[1;32m    182\u001b[0m \u001b[39mfor\u001b[39;00m sub_list \u001b[39min\u001b[39;00m lst:\n\u001b[0;32m--> 183\u001b[0m     sub_list \u001b[39m=\u001b[39m \u001b[39mlist\u001b[39;49m(sub_list)\n\u001b[1;32m    184\u001b[0m     returned_list\u001b[39m.\u001b[39mappend(sub_list);\n\u001b[1;32m    186\u001b[0m padded_list \u001b[39m=\u001b[39m []\n",
      "File \u001b[0;32m~/opt/anaconda3/envs/myenv/lib/python3.9/site-packages/awkward/highlevel.py:575\u001b[0m, in \u001b[0;36mArray.__iter__\u001b[0;34m(self)\u001b[0m\n\u001b[1;32m    545\u001b[0m \u001b[39mdef\u001b[39;00m \u001b[39m__iter__\u001b[39m(\u001b[39mself\u001b[39m):\n\u001b[1;32m    546\u001b[0m     \u001b[39m\"\"\"\u001b[39;00m\n\u001b[1;32m    547\u001b[0m \u001b[39m    Iterates over this Array in Python.\u001b[39;00m\n\u001b[1;32m    548\u001b[0m \n\u001b[0;32m   (...)\u001b[0m\n\u001b[1;32m    573\u001b[0m \u001b[39m    See also #ak.to_list.\u001b[39;00m\n\u001b[1;32m    574\u001b[0m \u001b[39m    \"\"\"\u001b[39;00m\n\u001b[0;32m--> 575\u001b[0m     \u001b[39mfor\u001b[39;00m x \u001b[39min\u001b[39;00m \u001b[39mself\u001b[39m\u001b[39m.\u001b[39mlayout:\n\u001b[1;32m    576\u001b[0m         \u001b[39myield\u001b[39;00m ak\u001b[39m.\u001b[39m_util\u001b[39m.\u001b[39mwrap(x, \u001b[39mself\u001b[39m\u001b[39m.\u001b[39m_behavior)\n",
      "\u001b[0;31mKeyboardInterrupt\u001b[0m: "
     ]
    }
   ],
   "source": [
    "jet_data, particle_data = getData(jet_type, jet_features, particle_features,data_dir)\n",
    "## Combibing the first axis, instead having 500k by 3\n",
    "jet_data.shape"
   ]
  },
  {
   "cell_type": "code",
   "execution_count": 177,
   "metadata": {},
   "outputs": [
    {
     "data": {
      "text/plain": [
       "(500000, 3)"
      ]
     },
     "execution_count": 177,
     "metadata": {},
     "output_type": "execute_result"
    }
   ],
   "source": [
    "jet_data.shape"
   ]
  },
  {
   "attachments": {},
   "cell_type": "markdown",
   "metadata": {},
   "source": [
    "## To-DO List\n",
    "\n",
    "- [x] Generalize to more Jet_types\n",
    "- [x] Generalize to more Jet_features\n",
    "- [x]  Generalize to particle features\n",
    "- [x] Generalize for validation dataset\n",
    "- [] Write Class\n",
    "- [x] Use tqdm library to show progress bars\n",
    "- [] TEST Clas"
   ]
  },
  {
   "cell_type": "code",
   "execution_count": 150,
   "metadata": {},
   "outputs": [
    {
     "data": {
      "text/plain": [
       "array([[1., 2., 0.],\n",
       "       [2., 3., 0.],\n",
       "       [3., 4., 0.]])"
      ]
     },
     "execution_count": 150,
     "metadata": {},
     "output_type": "execute_result"
    }
   ],
   "source": [
    "a = np.array([1,2,3])\n",
    "b = np.array((2,3,4))\n",
    "zeros = np.zeros(3)\n",
    "c = np.column_stack((a,b))\n",
    "c = np.column_stack((c,zeros))\n",
    "c\n"
   ]
  },
  {
   "cell_type": "code",
   "execution_count": 152,
   "metadata": {},
   "outputs": [
    {
     "name": "stdout",
     "output_type": "stream",
     "text": [
      "0\n",
      "1\n",
      "2\n",
      "3\n",
      "4\n",
      "5\n"
     ]
    }
   ],
   "source": [
    "for i in range(6):\n",
    "    print(i)"
   ]
  },
  {
   "cell_type": "code",
   "execution_count": 154,
   "metadata": {},
   "outputs": [
    {
     "data": {
      "text/plain": [
       "array([0., 0., 0., 0., 0.])"
      ]
     },
     "execution_count": 154,
     "metadata": {},
     "output_type": "execute_result"
    }
   ],
   "source": [
    "xd = np.zeros(5)\n",
    "xd"
   ]
  },
  {
   "cell_type": "code",
   "execution_count": 184,
   "metadata": {},
   "outputs": [],
   "source": [
    "class JetClass:\n",
    "    \"\"\"\n",
    "    PyTorch ``torch.unit.data.Dataset`` class for the JetClass dataset.\n",
    "    If root files are not found in the ``data_dir`` directory then dataset will be downloaded\n",
    "    from Zenodo (https://zenodo.org/record/6975118 or https://zenodo.org/record/6975117).\n",
    "    Args:\n",
    "        jet_type (Union[str, Set[str]], optional): individual type or set of types out of\n",
    "            'g' (gluon), 'q' (light quarks), 't' (top quarks), 'w' (W bosons), or 'z' (Z bosons).\n",
    "            \"all\" will get all types. Defaults to \"all\".\n",
    "        data_dir (str, optional): directory in which data is (to be) stored. Defaults to \"./\".\n",
    "        particle_features (List[str], optional): list of particle features to retrieve. If empty\n",
    "            or None, gets no particle features. Defaults to\n",
    "            ``[\"etarel\", \"phirel\", \"ptrel\", \"mask\"]``.\n",
    "        jet_features (List[str], optional): list of jet features to retrieve.  If empty or None,\n",
    "            gets no jet features. Defaults to\n",
    "            ``[\"type\", \"pt\", \"eta\", \"mass\", \"num_particles\"]``.\n",
    "        particle_normalisation (NormaliseABC, optional): optional normalisation to apply to\n",
    "            particle data. Defaults to None.\n",
    "        jet_normalisation (NormaliseABC, optional): optional normalisation to apply to jet data.\n",
    "            Defaults to None.\n",
    "        particle_transform (callable, optional): A function/transform that takes in the particle\n",
    "            data tensor and transforms it. Defaults to None.\n",
    "        jet_transform (callable, optional): A function/transform that takes in the jet\n",
    "            data tensor and transforms it. Defaults to None.\n",
    "        num_particles (int, optional): number of particles to retain per jet, max of 150.\n",
    "            Defaults to 30.\n",
    "        split (str, optional): dataset split, out of {\"train\", \"valid\", \"test\", \"all\"}. Defaults\n",
    "            to \"train\".\n",
    "        split_fraction (List[float], optional): splitting fraction of training, validation,\n",
    "            testing data respectively. Defaults to [0.7, 0.15, 0.15].\n",
    "        seed (int, optional): PyTorch manual seed - important to use the same seed for all\n",
    "            dataset splittings. Defaults to 42.\n",
    "    \"\"\"\n",
    "\n",
    "    zenodo_record_id = 6619768\n",
    "\n",
    "    jet_type = [\"HtoBB\", \"HtoCC\", \"HtoGG\", \"HtoWW\", \"HtoWW2Q1L\", \"HtoWW4Q\", \"TTBar\", \"TTBarLep\", \n",
    "                \"WtoQQ\", \"ZJetstoNuNu\", \"ZtoQQ\"]\n",
    "    all_particle_features = [\"part_px\", \"part_py\", \"part_pz\", \"part_energy\", \"part_deta\", \"part_dphi\", \"part_d0val\", \"part_d0err\", \"part_dzval\",\n",
    "                             \"part_dzerr\", \"part_charge\", \"part_isChargedHadron\", \"part_isNeutralHadron\", \"part_isPhoton\", \"part_isElectron\", \"part_isMuon\"]\n",
    "    all_jet_features = [\"jet_pt\", \"jet_eta\", \"jet_phi\", \"jet_energy\", \"jet_nparticles\", \"jet_sdmass\", \"jet_tau1\", \"jet_tau2\", \"jet_tau3\", \"jet_tau4\"]\n",
    "    splits = [\"train\", \"valid\", \"test\", \"all\"]\n",
    "\n",
    "    def __init__(\n",
    "        self,\n",
    "        jet_type: Union[str, Set[str]] = \"all\",\n",
    "        data_dir: str = \"./\",\n",
    "        particle_features: List[str] = all_particle_features,\n",
    "        jet_features: List[str] = all_jet_features,\n",
    "        split: str = \"train\",\n",
    "        split_fraction: List[float] = [0.7, 0.15, 0.15],\n",
    "        seed: int = 42,\n",
    "    ):\n",
    "        self.particle_data, self.jet_data = self.getData(\n",
    "            jet_type,\n",
    "            data_dir,\n",
    "            particle_features,\n",
    "            jet_features\n",
    "        )\n",
    "\n",
    "        super().__init__(\n",
    "            data_dir=data_dir,\n",
    "            particle_features=particle_features,\n",
    "            jet_features=jet_features\n",
    "        )\n",
    "\n",
    "        self.jet_type = jet_type\n",
    "        self.split = split\n",
    "        self.split_fraction = split_fraction\n",
    "\n",
    "    @classmethod\n",
    "    def getData(jet_type, data_dir, particle_features, jet_features):\n",
    "        dataset_name = \"JetClass Validation Set\"\n",
    "        file_download_name = \"Val_5M\"\n",
    "        key = \"JetClass_Pythia_val_5M.tar\"\n",
    "        record_id = 6619768\n",
    "        jet_matrix = np.zeros((1, 100000))\n",
    "        particle_matrix = np.zeros((1, 136))\n",
    "        file_path = checkDownloadZenodoDataset(data_dir, dataset_name, record_id, key, file_download_name)\n",
    "        print(\"Processing Data: ...\")\n",
    "        for jet_file in os.listdir(file_path):\n",
    "            f = os.path.join(file_path, jet_file)\n",
    "            for jet in jet_type:\n",
    "                if jet in f:\n",
    "                    open_file = uproot.open(f)\n",
    "                    branch = open_file['tree']\n",
    "                    for i in branch.keys():\n",
    "                        for feature in jet_features:\n",
    "                            if feature in i:\n",
    "                                arr = branch[i].array()\n",
    "                                arr = np.array(arr)\n",
    "                                jet_matrix = np.vstack([jet_matrix, arr])\n",
    "                        for particle in particle_features:\n",
    "                            if particle in i:\n",
    "                                arr_awk = branch[i].array()\n",
    "                                awk_list = list(arr_awk)\n",
    "                                zero_pad_arr = zero_padding(awk_list)\n",
    "                                length_curr = findMaxLengthList(zero_pad_arr)\n",
    "                                length_matrix = findMaxLengthList(particle_matrix)\n",
    "                                zeros = np.zeros(100001)\n",
    "                                if (length_curr > length_matrix) :\n",
    "                                    zeros = np.zeros(100001)\n",
    "                                    diff = length_curr - length_matrix\n",
    "                                    for i in range(diff):\n",
    "                                        particle_matrix = np.column_stack((particle_matrix,zeros))\n",
    "                                elif (length_curr < length_matrix):\n",
    "                                    zeros = np.zeros(100000)\n",
    "                                    diff = length_matrix - length_curr\n",
    "                                    for i in range(diff):\n",
    "                                        zero_pad_arr = np.column_stack((zero_pad_arr,zeros))\n",
    "                                particle_matrix = np.vstack([particle_matrix, zero_pad_arr])\n",
    "                                updated_particle_matrix = np.delete(particle_matrix, 0 , axis = 0)   \n",
    "                \n",
    "        updated_jet_matrix = np.delete(jet_matrix, 0 , axis = 0)                \n",
    "        dim1 = updated_jet_matrix.shape[0]\n",
    "        dim2 = updated_jet_matrix.shape[1]\n",
    "        dim_res = dim1/len(jet_features)\n",
    "        dim = int(dim_res * dim2)\n",
    "        return updated_jet_matrix.reshape(dim,len(jet_features)) , updated_particle_matrix\n"
   ]
  },
  {
   "cell_type": "code",
   "execution_count": 185,
   "metadata": {},
   "outputs": [
    {
     "ename": "TypeError",
     "evalue": "getData() takes 4 positional arguments but 5 were given",
     "output_type": "error",
     "traceback": [
      "\u001b[0;31m---------------------------------------------------------------------------\u001b[0m",
      "\u001b[0;31mTypeError\u001b[0m                                 Traceback (most recent call last)",
      "\u001b[1;32m/Users/cpare/repos/JetNet/JetNet2/jetnet/datasets/JetClass.ipynb Cell 26\u001b[0m in \u001b[0;36m<module>\u001b[0;34m\u001b[0m\n\u001b[0;32m----> <a href='vscode-notebook-cell:/Users/cpare/repos/JetNet/JetNet2/jetnet/datasets/JetClass.ipynb#X30sZmlsZQ%3D%3D?line=0'>1</a>\u001b[0m model \u001b[39m=\u001b[39m JetClass()\n",
      "\u001b[1;32m/Users/cpare/repos/JetNet/JetNet2/jetnet/datasets/JetClass.ipynb Cell 26\u001b[0m in \u001b[0;36mJetClass.__init__\u001b[0;34m(self, jet_type, data_dir, particle_features, jet_features, split, split_fraction, seed)\u001b[0m\n\u001b[1;32m     <a href='vscode-notebook-cell:/Users/cpare/repos/JetNet/JetNet2/jetnet/datasets/JetClass.ipynb#X30sZmlsZQ%3D%3D?line=43'>44</a>\u001b[0m \u001b[39mdef\u001b[39;00m \u001b[39m__init__\u001b[39m(\n\u001b[1;32m     <a href='vscode-notebook-cell:/Users/cpare/repos/JetNet/JetNet2/jetnet/datasets/JetClass.ipynb#X30sZmlsZQ%3D%3D?line=44'>45</a>\u001b[0m     \u001b[39mself\u001b[39m,\n\u001b[1;32m     <a href='vscode-notebook-cell:/Users/cpare/repos/JetNet/JetNet2/jetnet/datasets/JetClass.ipynb#X30sZmlsZQ%3D%3D?line=45'>46</a>\u001b[0m     jet_type: Union[\u001b[39mstr\u001b[39m, Set[\u001b[39mstr\u001b[39m]] \u001b[39m=\u001b[39m \u001b[39m\"\u001b[39m\u001b[39mall\u001b[39m\u001b[39m\"\u001b[39m,\n\u001b[0;32m   (...)\u001b[0m\n\u001b[1;32m     <a href='vscode-notebook-cell:/Users/cpare/repos/JetNet/JetNet2/jetnet/datasets/JetClass.ipynb#X30sZmlsZQ%3D%3D?line=51'>52</a>\u001b[0m     seed: \u001b[39mint\u001b[39m \u001b[39m=\u001b[39m \u001b[39m42\u001b[39m,\n\u001b[1;32m     <a href='vscode-notebook-cell:/Users/cpare/repos/JetNet/JetNet2/jetnet/datasets/JetClass.ipynb#X30sZmlsZQ%3D%3D?line=52'>53</a>\u001b[0m ):\n\u001b[0;32m---> <a href='vscode-notebook-cell:/Users/cpare/repos/JetNet/JetNet2/jetnet/datasets/JetClass.ipynb#X30sZmlsZQ%3D%3D?line=53'>54</a>\u001b[0m     \u001b[39mself\u001b[39m\u001b[39m.\u001b[39mparticle_data, \u001b[39mself\u001b[39m\u001b[39m.\u001b[39mjet_data \u001b[39m=\u001b[39m \u001b[39mself\u001b[39;49m\u001b[39m.\u001b[39;49mgetData(\n\u001b[1;32m     <a href='vscode-notebook-cell:/Users/cpare/repos/JetNet/JetNet2/jetnet/datasets/JetClass.ipynb#X30sZmlsZQ%3D%3D?line=54'>55</a>\u001b[0m         jet_type,\n\u001b[1;32m     <a href='vscode-notebook-cell:/Users/cpare/repos/JetNet/JetNet2/jetnet/datasets/JetClass.ipynb#X30sZmlsZQ%3D%3D?line=55'>56</a>\u001b[0m         data_dir,\n\u001b[1;32m     <a href='vscode-notebook-cell:/Users/cpare/repos/JetNet/JetNet2/jetnet/datasets/JetClass.ipynb#X30sZmlsZQ%3D%3D?line=56'>57</a>\u001b[0m         particle_features,\n\u001b[1;32m     <a href='vscode-notebook-cell:/Users/cpare/repos/JetNet/JetNet2/jetnet/datasets/JetClass.ipynb#X30sZmlsZQ%3D%3D?line=57'>58</a>\u001b[0m         jet_features\n\u001b[1;32m     <a href='vscode-notebook-cell:/Users/cpare/repos/JetNet/JetNet2/jetnet/datasets/JetClass.ipynb#X30sZmlsZQ%3D%3D?line=58'>59</a>\u001b[0m     )\n\u001b[1;32m     <a href='vscode-notebook-cell:/Users/cpare/repos/JetNet/JetNet2/jetnet/datasets/JetClass.ipynb#X30sZmlsZQ%3D%3D?line=60'>61</a>\u001b[0m     \u001b[39msuper\u001b[39m()\u001b[39m.\u001b[39m\u001b[39m__init__\u001b[39m(\n\u001b[1;32m     <a href='vscode-notebook-cell:/Users/cpare/repos/JetNet/JetNet2/jetnet/datasets/JetClass.ipynb#X30sZmlsZQ%3D%3D?line=61'>62</a>\u001b[0m         data_dir\u001b[39m=\u001b[39mdata_dir,\n\u001b[1;32m     <a href='vscode-notebook-cell:/Users/cpare/repos/JetNet/JetNet2/jetnet/datasets/JetClass.ipynb#X30sZmlsZQ%3D%3D?line=62'>63</a>\u001b[0m         particle_features\u001b[39m=\u001b[39mparticle_features,\n\u001b[1;32m     <a href='vscode-notebook-cell:/Users/cpare/repos/JetNet/JetNet2/jetnet/datasets/JetClass.ipynb#X30sZmlsZQ%3D%3D?line=63'>64</a>\u001b[0m         jet_features\u001b[39m=\u001b[39mjet_features\n\u001b[1;32m     <a href='vscode-notebook-cell:/Users/cpare/repos/JetNet/JetNet2/jetnet/datasets/JetClass.ipynb#X30sZmlsZQ%3D%3D?line=64'>65</a>\u001b[0m     )\n\u001b[1;32m     <a href='vscode-notebook-cell:/Users/cpare/repos/JetNet/JetNet2/jetnet/datasets/JetClass.ipynb#X30sZmlsZQ%3D%3D?line=66'>67</a>\u001b[0m     \u001b[39mself\u001b[39m\u001b[39m.\u001b[39mjet_type \u001b[39m=\u001b[39m jet_type\n",
      "\u001b[0;31mTypeError\u001b[0m: getData() takes 4 positional arguments but 5 were given"
     ]
    }
   ],
   "source": [
    "model = JetClass()"
   ]
  },
  {
   "cell_type": "code",
   "execution_count": null,
   "metadata": {},
   "outputs": [],
   "source": []
  }
 ],
 "metadata": {
  "kernelspec": {
   "display_name": "myenv",
   "language": "python",
   "name": "python3"
  },
  "language_info": {
   "codemirror_mode": {
    "name": "ipython",
    "version": 3
   },
   "file_extension": ".py",
   "mimetype": "text/x-python",
   "name": "python",
   "nbconvert_exporter": "python",
   "pygments_lexer": "ipython3",
   "version": "3.9.7 (default, Sep 16 2021, 08:50:36) \n[Clang 10.0.0 ]"
  },
  "orig_nbformat": 4,
  "vscode": {
   "interpreter": {
    "hash": "778ce5d35af1dda3b7990d3b1b584fe8bd02fd4e1fafa51f18e59d98f620d5dc"
   }
  }
 },
 "nbformat": 4,
 "nbformat_minor": 2
}
